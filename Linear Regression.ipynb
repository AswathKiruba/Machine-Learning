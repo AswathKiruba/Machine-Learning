{
 "cells": [
  {
   "cell_type": "markdown",
   "metadata": {},
   "source": [
    "# Supervised Learning Linear Regression"
   ]
  },
  {
   "cell_type": "markdown",
   "metadata": {},
   "source": [
    "Setting up data"
   ]
  },
  {
   "cell_type": "code",
   "execution_count": 1,
   "metadata": {
    "collapsed": true
   },
   "outputs": [],
   "source": [
    "import numpy as np\n",
    "import pandas as pd\n",
    "from pandas import Series, DataFrame"
   ]
  },
  {
   "cell_type": "code",
   "execution_count": 2,
   "metadata": {
    "collapsed": true
   },
   "outputs": [],
   "source": [
    "#plot import\n",
    "import matplotlib.pyplot as plt\n",
    "import seaborn as sns\n",
    "\n",
    "sns.set_style('whitegrid')\n",
    "%matplotlib inline"
   ]
  },
  {
   "cell_type": "code",
   "execution_count": 3,
   "metadata": {
    "collapsed": true
   },
   "outputs": [],
   "source": [
    "#import from csv\n",
    "nyc_sub = pd.read_csv('C:/Users/aswat/nyc_subway_weather.csv')"
   ]
  },
  {
   "cell_type": "code",
   "execution_count": 4,
   "metadata": {},
   "outputs": [
    {
     "data": {
      "text/html": [
       "<div>\n",
       "<style>\n",
       "    .dataframe thead tr:only-child th {\n",
       "        text-align: right;\n",
       "    }\n",
       "\n",
       "    .dataframe thead th {\n",
       "        text-align: left;\n",
       "    }\n",
       "\n",
       "    .dataframe tbody tr th {\n",
       "        vertical-align: top;\n",
       "    }\n",
       "</style>\n",
       "<table border=\"1\" class=\"dataframe\">\n",
       "  <thead>\n",
       "    <tr style=\"text-align: right;\">\n",
       "      <th></th>\n",
       "      <th>UNIT</th>\n",
       "      <th>DATEn</th>\n",
       "      <th>TIMEn</th>\n",
       "      <th>ENTRIESn</th>\n",
       "      <th>EXITSn</th>\n",
       "      <th>ENTRIESn_hourly</th>\n",
       "      <th>EXITSn_hourly</th>\n",
       "      <th>datetime</th>\n",
       "      <th>hour</th>\n",
       "      <th>day_week</th>\n",
       "      <th>...</th>\n",
       "      <th>pressurei</th>\n",
       "      <th>rain</th>\n",
       "      <th>tempi</th>\n",
       "      <th>wspdi</th>\n",
       "      <th>meanprecipi</th>\n",
       "      <th>meanpressurei</th>\n",
       "      <th>meantempi</th>\n",
       "      <th>meanwspdi</th>\n",
       "      <th>weather_lat</th>\n",
       "      <th>weather_lon</th>\n",
       "    </tr>\n",
       "  </thead>\n",
       "  <tbody>\n",
       "    <tr>\n",
       "      <th>0</th>\n",
       "      <td>R003</td>\n",
       "      <td>5/1/2011</td>\n",
       "      <td>0:00:00</td>\n",
       "      <td>4388333</td>\n",
       "      <td>2911002</td>\n",
       "      <td>0.0</td>\n",
       "      <td>0.0</td>\n",
       "      <td>5/1/2011 0:00</td>\n",
       "      <td>0.0</td>\n",
       "      <td>6.0</td>\n",
       "      <td>...</td>\n",
       "      <td>30.22</td>\n",
       "      <td>0.0</td>\n",
       "      <td>55.9</td>\n",
       "      <td>3.5</td>\n",
       "      <td>0.0</td>\n",
       "      <td>30.258</td>\n",
       "      <td>55.98</td>\n",
       "      <td>7.86</td>\n",
       "      <td>40.700348</td>\n",
       "      <td>-73.887177</td>\n",
       "    </tr>\n",
       "    <tr>\n",
       "      <th>1</th>\n",
       "      <td>R003</td>\n",
       "      <td>5/1/2011</td>\n",
       "      <td>4:00:00</td>\n",
       "      <td>4388333</td>\n",
       "      <td>2911002</td>\n",
       "      <td>0.0</td>\n",
       "      <td>0.0</td>\n",
       "      <td>5/1/2011 4:00</td>\n",
       "      <td>4.0</td>\n",
       "      <td>6.0</td>\n",
       "      <td>...</td>\n",
       "      <td>30.25</td>\n",
       "      <td>0.0</td>\n",
       "      <td>52.0</td>\n",
       "      <td>3.5</td>\n",
       "      <td>0.0</td>\n",
       "      <td>30.258</td>\n",
       "      <td>55.98</td>\n",
       "      <td>7.86</td>\n",
       "      <td>40.700348</td>\n",
       "      <td>-73.887177</td>\n",
       "    </tr>\n",
       "    <tr>\n",
       "      <th>2</th>\n",
       "      <td>R003</td>\n",
       "      <td>5/1/2011</td>\n",
       "      <td>12:00:00</td>\n",
       "      <td>4388333</td>\n",
       "      <td>2911002</td>\n",
       "      <td>0.0</td>\n",
       "      <td>0.0</td>\n",
       "      <td>5/1/2011 12:00</td>\n",
       "      <td>12.0</td>\n",
       "      <td>6.0</td>\n",
       "      <td>...</td>\n",
       "      <td>30.28</td>\n",
       "      <td>0.0</td>\n",
       "      <td>62.1</td>\n",
       "      <td>6.9</td>\n",
       "      <td>0.0</td>\n",
       "      <td>30.258</td>\n",
       "      <td>55.98</td>\n",
       "      <td>7.86</td>\n",
       "      <td>40.700348</td>\n",
       "      <td>-73.887177</td>\n",
       "    </tr>\n",
       "    <tr>\n",
       "      <th>3</th>\n",
       "      <td>R003</td>\n",
       "      <td>5/1/2011</td>\n",
       "      <td>16:00:00</td>\n",
       "      <td>4388333</td>\n",
       "      <td>2911002</td>\n",
       "      <td>0.0</td>\n",
       "      <td>0.0</td>\n",
       "      <td>5/1/2011 16:00</td>\n",
       "      <td>16.0</td>\n",
       "      <td>6.0</td>\n",
       "      <td>...</td>\n",
       "      <td>30.26</td>\n",
       "      <td>0.0</td>\n",
       "      <td>57.9</td>\n",
       "      <td>15.0</td>\n",
       "      <td>0.0</td>\n",
       "      <td>30.258</td>\n",
       "      <td>55.98</td>\n",
       "      <td>7.86</td>\n",
       "      <td>40.700348</td>\n",
       "      <td>-73.887177</td>\n",
       "    </tr>\n",
       "    <tr>\n",
       "      <th>4</th>\n",
       "      <td>R003</td>\n",
       "      <td>5/1/2011</td>\n",
       "      <td>20:00:00</td>\n",
       "      <td>4388333</td>\n",
       "      <td>2911002</td>\n",
       "      <td>0.0</td>\n",
       "      <td>0.0</td>\n",
       "      <td>5/1/2011 20:00</td>\n",
       "      <td>20.0</td>\n",
       "      <td>6.0</td>\n",
       "      <td>...</td>\n",
       "      <td>30.28</td>\n",
       "      <td>0.0</td>\n",
       "      <td>52.0</td>\n",
       "      <td>10.4</td>\n",
       "      <td>0.0</td>\n",
       "      <td>30.258</td>\n",
       "      <td>55.98</td>\n",
       "      <td>7.86</td>\n",
       "      <td>40.700348</td>\n",
       "      <td>-73.887177</td>\n",
       "    </tr>\n",
       "  </tbody>\n",
       "</table>\n",
       "<p>5 rows × 27 columns</p>\n",
       "</div>"
      ],
      "text/plain": [
       "   UNIT     DATEn     TIMEn  ENTRIESn   EXITSn  ENTRIESn_hourly  \\\n",
       "0  R003  5/1/2011   0:00:00   4388333  2911002              0.0   \n",
       "1  R003  5/1/2011   4:00:00   4388333  2911002              0.0   \n",
       "2  R003  5/1/2011  12:00:00   4388333  2911002              0.0   \n",
       "3  R003  5/1/2011  16:00:00   4388333  2911002              0.0   \n",
       "4  R003  5/1/2011  20:00:00   4388333  2911002              0.0   \n",
       "\n",
       "   EXITSn_hourly        datetime  hour  day_week     ...       pressurei rain  \\\n",
       "0            0.0   5/1/2011 0:00   0.0       6.0     ...           30.22  0.0   \n",
       "1            0.0   5/1/2011 4:00   4.0       6.0     ...           30.25  0.0   \n",
       "2            0.0  5/1/2011 12:00  12.0       6.0     ...           30.28  0.0   \n",
       "3            0.0  5/1/2011 16:00  16.0       6.0     ...           30.26  0.0   \n",
       "4            0.0  5/1/2011 20:00  20.0       6.0     ...           30.28  0.0   \n",
       "\n",
       "   tempi  wspdi meanprecipi  meanpressurei  meantempi  meanwspdi  weather_lat  \\\n",
       "0   55.9    3.5         0.0         30.258      55.98       7.86    40.700348   \n",
       "1   52.0    3.5         0.0         30.258      55.98       7.86    40.700348   \n",
       "2   62.1    6.9         0.0         30.258      55.98       7.86    40.700348   \n",
       "3   57.9   15.0         0.0         30.258      55.98       7.86    40.700348   \n",
       "4   52.0   10.4         0.0         30.258      55.98       7.86    40.700348   \n",
       "\n",
       "   weather_lon  \n",
       "0   -73.887177  \n",
       "1   -73.887177  \n",
       "2   -73.887177  \n",
       "3   -73.887177  \n",
       "4   -73.887177  \n",
       "\n",
       "[5 rows x 27 columns]"
      ]
     },
     "execution_count": 4,
     "metadata": {},
     "output_type": "execute_result"
    }
   ],
   "source": [
    "nyc_sub.head()"
   ]
  },
  {
   "cell_type": "code",
   "execution_count": 5,
   "metadata": {},
   "outputs": [
    {
     "data": {
      "text/html": [
       "<div>\n",
       "<style>\n",
       "    .dataframe thead tr:only-child th {\n",
       "        text-align: right;\n",
       "    }\n",
       "\n",
       "    .dataframe thead th {\n",
       "        text-align: left;\n",
       "    }\n",
       "\n",
       "    .dataframe tbody tr th {\n",
       "        vertical-align: top;\n",
       "    }\n",
       "</style>\n",
       "<table border=\"1\" class=\"dataframe\">\n",
       "  <thead>\n",
       "    <tr style=\"text-align: right;\">\n",
       "      <th></th>\n",
       "      <th>ENTRIESn</th>\n",
       "      <th>EXITSn</th>\n",
       "      <th>ENTRIESn_hourly</th>\n",
       "      <th>EXITSn_hourly</th>\n",
       "      <th>hour</th>\n",
       "      <th>day_week</th>\n",
       "      <th>weekday</th>\n",
       "      <th>latitude</th>\n",
       "      <th>longitude</th>\n",
       "      <th>fog</th>\n",
       "      <th>...</th>\n",
       "      <th>pressurei</th>\n",
       "      <th>rain</th>\n",
       "      <th>tempi</th>\n",
       "      <th>wspdi</th>\n",
       "      <th>meanprecipi</th>\n",
       "      <th>meanpressurei</th>\n",
       "      <th>meantempi</th>\n",
       "      <th>meanwspdi</th>\n",
       "      <th>weather_lat</th>\n",
       "      <th>weather_lon</th>\n",
       "    </tr>\n",
       "  </thead>\n",
       "  <tbody>\n",
       "    <tr>\n",
       "      <th>count</th>\n",
       "      <td>4.264900e+04</td>\n",
       "      <td>4.264900e+04</td>\n",
       "      <td>42647.000000</td>\n",
       "      <td>42647.000000</td>\n",
       "      <td>42647.000000</td>\n",
       "      <td>42647.000000</td>\n",
       "      <td>42648.000000</td>\n",
       "      <td>42648.000000</td>\n",
       "      <td>42648.000000</td>\n",
       "      <td>42648.000000</td>\n",
       "      <td>...</td>\n",
       "      <td>42648.000000</td>\n",
       "      <td>42647.000000</td>\n",
       "      <td>42647.000000</td>\n",
       "      <td>42647.000000</td>\n",
       "      <td>42647.000000</td>\n",
       "      <td>42647.000000</td>\n",
       "      <td>42647.000000</td>\n",
       "      <td>42647.000000</td>\n",
       "      <td>42647.000000</td>\n",
       "      <td>42647.000000</td>\n",
       "    </tr>\n",
       "    <tr>\n",
       "      <th>mean</th>\n",
       "      <td>2.812486e+07</td>\n",
       "      <td>1.986993e+07</td>\n",
       "      <td>1886.648862</td>\n",
       "      <td>1361.523859</td>\n",
       "      <td>10.046381</td>\n",
       "      <td>2.905691</td>\n",
       "      <td>0.714430</td>\n",
       "      <td>40.724648</td>\n",
       "      <td>-73.940366</td>\n",
       "      <td>0.009825</td>\n",
       "      <td>...</td>\n",
       "      <td>29.971095</td>\n",
       "      <td>0.224752</td>\n",
       "      <td>63.103735</td>\n",
       "      <td>6.927711</td>\n",
       "      <td>0.004618</td>\n",
       "      <td>29.971097</td>\n",
       "      <td>63.103968</td>\n",
       "      <td>6.927782</td>\n",
       "      <td>40.728558</td>\n",
       "      <td>-73.938698</td>\n",
       "    </tr>\n",
       "    <tr>\n",
       "      <th>std</th>\n",
       "      <td>3.043607e+07</td>\n",
       "      <td>2.028986e+07</td>\n",
       "      <td>2952.441710</td>\n",
       "      <td>2183.890279</td>\n",
       "      <td>6.938864</td>\n",
       "      <td>2.079250</td>\n",
       "      <td>0.451691</td>\n",
       "      <td>0.071650</td>\n",
       "      <td>0.059712</td>\n",
       "      <td>0.098632</td>\n",
       "      <td>...</td>\n",
       "      <td>0.137943</td>\n",
       "      <td>0.417424</td>\n",
       "      <td>8.455722</td>\n",
       "      <td>4.510216</td>\n",
       "      <td>0.016345</td>\n",
       "      <td>0.131159</td>\n",
       "      <td>6.939119</td>\n",
       "      <td>3.179879</td>\n",
       "      <td>0.065421</td>\n",
       "      <td>0.059581</td>\n",
       "    </tr>\n",
       "    <tr>\n",
       "      <th>min</th>\n",
       "      <td>0.000000e+00</td>\n",
       "      <td>0.000000e+00</td>\n",
       "      <td>0.000000</td>\n",
       "      <td>0.000000</td>\n",
       "      <td>0.000000</td>\n",
       "      <td>0.000000</td>\n",
       "      <td>0.000000</td>\n",
       "      <td>40.576152</td>\n",
       "      <td>-74.073622</td>\n",
       "      <td>0.000000</td>\n",
       "      <td>...</td>\n",
       "      <td>29.550000</td>\n",
       "      <td>0.000000</td>\n",
       "      <td>46.900000</td>\n",
       "      <td>0.000000</td>\n",
       "      <td>0.000000</td>\n",
       "      <td>29.590000</td>\n",
       "      <td>49.400000</td>\n",
       "      <td>0.000000</td>\n",
       "      <td>40.600204</td>\n",
       "      <td>-74.014870</td>\n",
       "    </tr>\n",
       "    <tr>\n",
       "      <th>25%</th>\n",
       "      <td>1.039762e+07</td>\n",
       "      <td>7.613712e+06</td>\n",
       "      <td>274.000000</td>\n",
       "      <td>237.000000</td>\n",
       "      <td>4.000000</td>\n",
       "      <td>1.000000</td>\n",
       "      <td>0.000000</td>\n",
       "      <td>40.677107</td>\n",
       "      <td>-73.987342</td>\n",
       "      <td>0.000000</td>\n",
       "      <td>...</td>\n",
       "      <td>29.890000</td>\n",
       "      <td>0.000000</td>\n",
       "      <td>57.000000</td>\n",
       "      <td>4.600000</td>\n",
       "      <td>0.000000</td>\n",
       "      <td>29.913333</td>\n",
       "      <td>58.283333</td>\n",
       "      <td>4.816667</td>\n",
       "      <td>40.688591</td>\n",
       "      <td>-73.985130</td>\n",
       "    </tr>\n",
       "    <tr>\n",
       "      <th>50%</th>\n",
       "      <td>1.818389e+07</td>\n",
       "      <td>1.331609e+07</td>\n",
       "      <td>905.000000</td>\n",
       "      <td>664.000000</td>\n",
       "      <td>12.000000</td>\n",
       "      <td>3.000000</td>\n",
       "      <td>1.000000</td>\n",
       "      <td>40.717241</td>\n",
       "      <td>-73.953459</td>\n",
       "      <td>0.000000</td>\n",
       "      <td>...</td>\n",
       "      <td>29.960000</td>\n",
       "      <td>0.000000</td>\n",
       "      <td>61.000000</td>\n",
       "      <td>6.900000</td>\n",
       "      <td>0.000000</td>\n",
       "      <td>29.958000</td>\n",
       "      <td>60.950000</td>\n",
       "      <td>6.166667</td>\n",
       "      <td>40.720570</td>\n",
       "      <td>-73.949150</td>\n",
       "    </tr>\n",
       "    <tr>\n",
       "      <th>75%</th>\n",
       "      <td>3.263049e+07</td>\n",
       "      <td>2.393771e+07</td>\n",
       "      <td>2255.500000</td>\n",
       "      <td>1537.000000</td>\n",
       "      <td>16.000000</td>\n",
       "      <td>5.000000</td>\n",
       "      <td>1.000000</td>\n",
       "      <td>40.759123</td>\n",
       "      <td>-73.907733</td>\n",
       "      <td>0.000000</td>\n",
       "      <td>...</td>\n",
       "      <td>30.060000</td>\n",
       "      <td>0.000000</td>\n",
       "      <td>69.100000</td>\n",
       "      <td>9.200000</td>\n",
       "      <td>0.000000</td>\n",
       "      <td>30.060000</td>\n",
       "      <td>67.466667</td>\n",
       "      <td>8.850000</td>\n",
       "      <td>40.755226</td>\n",
       "      <td>-73.912033</td>\n",
       "    </tr>\n",
       "    <tr>\n",
       "      <th>max</th>\n",
       "      <td>2.357746e+08</td>\n",
       "      <td>1.493782e+08</td>\n",
       "      <td>32814.000000</td>\n",
       "      <td>34828.000000</td>\n",
       "      <td>20.000000</td>\n",
       "      <td>6.000000</td>\n",
       "      <td>1.000000</td>\n",
       "      <td>40.889185</td>\n",
       "      <td>-73.755383</td>\n",
       "      <td>1.000000</td>\n",
       "      <td>...</td>\n",
       "      <td>30.320000</td>\n",
       "      <td>1.000000</td>\n",
       "      <td>86.000000</td>\n",
       "      <td>23.000000</td>\n",
       "      <td>0.157500</td>\n",
       "      <td>30.293333</td>\n",
       "      <td>79.800000</td>\n",
       "      <td>17.083333</td>\n",
       "      <td>40.862064</td>\n",
       "      <td>-73.694176</td>\n",
       "    </tr>\n",
       "  </tbody>\n",
       "</table>\n",
       "<p>8 rows × 21 columns</p>\n",
       "</div>"
      ],
      "text/plain": [
       "           ENTRIESn        EXITSn  ENTRIESn_hourly  EXITSn_hourly  \\\n",
       "count  4.264900e+04  4.264900e+04     42647.000000   42647.000000   \n",
       "mean   2.812486e+07  1.986993e+07      1886.648862    1361.523859   \n",
       "std    3.043607e+07  2.028986e+07      2952.441710    2183.890279   \n",
       "min    0.000000e+00  0.000000e+00         0.000000       0.000000   \n",
       "25%    1.039762e+07  7.613712e+06       274.000000     237.000000   \n",
       "50%    1.818389e+07  1.331609e+07       905.000000     664.000000   \n",
       "75%    3.263049e+07  2.393771e+07      2255.500000    1537.000000   \n",
       "max    2.357746e+08  1.493782e+08     32814.000000   34828.000000   \n",
       "\n",
       "               hour      day_week       weekday      latitude     longitude  \\\n",
       "count  42647.000000  42647.000000  42648.000000  42648.000000  42648.000000   \n",
       "mean      10.046381      2.905691      0.714430     40.724648    -73.940366   \n",
       "std        6.938864      2.079250      0.451691      0.071650      0.059712   \n",
       "min        0.000000      0.000000      0.000000     40.576152    -74.073622   \n",
       "25%        4.000000      1.000000      0.000000     40.677107    -73.987342   \n",
       "50%       12.000000      3.000000      1.000000     40.717241    -73.953459   \n",
       "75%       16.000000      5.000000      1.000000     40.759123    -73.907733   \n",
       "max       20.000000      6.000000      1.000000     40.889185    -73.755383   \n",
       "\n",
       "                fog      ...          pressurei          rain         tempi  \\\n",
       "count  42648.000000      ...       42648.000000  42647.000000  42647.000000   \n",
       "mean       0.009825      ...          29.971095      0.224752     63.103735   \n",
       "std        0.098632      ...           0.137943      0.417424      8.455722   \n",
       "min        0.000000      ...          29.550000      0.000000     46.900000   \n",
       "25%        0.000000      ...          29.890000      0.000000     57.000000   \n",
       "50%        0.000000      ...          29.960000      0.000000     61.000000   \n",
       "75%        0.000000      ...          30.060000      0.000000     69.100000   \n",
       "max        1.000000      ...          30.320000      1.000000     86.000000   \n",
       "\n",
       "              wspdi   meanprecipi  meanpressurei     meantempi     meanwspdi  \\\n",
       "count  42647.000000  42647.000000   42647.000000  42647.000000  42647.000000   \n",
       "mean       6.927711      0.004618      29.971097     63.103968      6.927782   \n",
       "std        4.510216      0.016345       0.131159      6.939119      3.179879   \n",
       "min        0.000000      0.000000      29.590000     49.400000      0.000000   \n",
       "25%        4.600000      0.000000      29.913333     58.283333      4.816667   \n",
       "50%        6.900000      0.000000      29.958000     60.950000      6.166667   \n",
       "75%        9.200000      0.000000      30.060000     67.466667      8.850000   \n",
       "max       23.000000      0.157500      30.293333     79.800000     17.083333   \n",
       "\n",
       "        weather_lat   weather_lon  \n",
       "count  42647.000000  42647.000000  \n",
       "mean      40.728558    -73.938698  \n",
       "std        0.065421      0.059581  \n",
       "min       40.600204    -74.014870  \n",
       "25%       40.688591    -73.985130  \n",
       "50%       40.720570    -73.949150  \n",
       "75%       40.755226    -73.912033  \n",
       "max       40.862064    -73.694176  \n",
       "\n",
       "[8 rows x 21 columns]"
      ]
     },
     "execution_count": 5,
     "metadata": {},
     "output_type": "execute_result"
    }
   ],
   "source": [
    "nyc_sub.describe()"
   ]
  },
  {
   "cell_type": "code",
   "execution_count": 6,
   "metadata": {},
   "outputs": [
    {
     "data": {
      "text/plain": [
       "UNIT               0\n",
       "DATEn              0\n",
       "TIMEn              0\n",
       "ENTRIESn           0\n",
       "EXITSn             0\n",
       "ENTRIESn_hourly    0\n",
       "EXITSn_hourly      0\n",
       "datetime           0\n",
       "hour               0\n",
       "day_week           0\n",
       "weekday            0\n",
       "station            0\n",
       "latitude           0\n",
       "longitude          0\n",
       "conds              0\n",
       "fog                0\n",
       "precipi            0\n",
       "pressurei          0\n",
       "rain               0\n",
       "tempi              0\n",
       "wspdi              0\n",
       "meanprecipi        0\n",
       "meanpressurei      0\n",
       "meantempi          0\n",
       "meanwspdi          0\n",
       "weather_lat        0\n",
       "weather_lon        0\n",
       "dtype: int64"
      ]
     },
     "execution_count": 6,
     "metadata": {},
     "output_type": "execute_result"
    }
   ],
   "source": [
    "df1 = nyc_sub.copy()\n",
    "#drop rows with NA\n",
    "df1.dropna(inplace = True)\n",
    "df1.apply(lambda x: sum(x.isnull()),axis=0)"
   ]
  },
  {
   "cell_type": "code",
   "execution_count": 7,
   "metadata": {},
   "outputs": [
    {
     "data": {
      "text/plain": [
       "<matplotlib.text.Text at 0x1d3a1c40978>"
      ]
     },
     "execution_count": 7,
     "metadata": {},
     "output_type": "execute_result"
    },
    {
     "data": {
      "image/png": "[encoded data removed]",
      "text/plain": [
       "<matplotlib.figure.Figure at 0x1d3a19f5860>"
      ]
     },
     "metadata": {},
     "output_type": "display_data"
    }
   ],
   "source": [
    "#Entries of Riders\n",
    "plt.hist(df1['ENTRIESn_hourly'],bins=100)\n",
    "plt.xlim(0,2500)\n",
    "plt.xlabel('Entries of Riders')\n",
    "plt.ylabel('Frequency')"
   ]
  },
  {
   "cell_type": "code",
   "execution_count": 8,
   "metadata": {},
   "outputs": [
    {
     "data": {
      "text/plain": [
       "<matplotlib.text.Text at 0x1d3a21d7550>"
      ]
     },
     "execution_count": 8,
     "metadata": {},
     "output_type": "execute_result"
    },
    {
     "data": {
      "image/png": "[encoded data removed]",
      "text/plain": [
       "<matplotlib.figure.Figure at 0x1d3a2215438>"
      ]
     },
     "metadata": {},
     "output_type": "display_data"
    }
   ],
   "source": [
    "#Scatter plot\n",
    "plt.scatter(df1['tempi'],df1['ENTRIESn_hourly'])\n",
    "plt.ylabel('Riders entered')\n",
    "plt.xlabel('Temperature')"
   ]
  },
  {
   "cell_type": "markdown",
   "metadata": {},
   "source": [
    "We could obtain a linear fit by using a Seaborn."
   ]
  },
  {
   "cell_type": "code",
   "execution_count": 9,
   "metadata": {},
   "outputs": [
    {
     "data": {
      "text/plain": [
       "<seaborn.axisgrid.FacetGrid at 0x1d3a22ff9e8>"
      ]
     },
     "execution_count": 9,
     "metadata": {},
     "output_type": "execute_result"
    },
    {
     "data": {
      "image/png": "[encoded data removed]",
      "text/plain": [
       "<matplotlib.figure.Figure at 0x1d3a22ff9b0>"
      ]
     },
     "metadata": {},
     "output_type": "display_data"
    }
   ],
   "source": [
    "sns.lmplot('tempi','ENTRIESn_hourly',data=df1,\n",
    "          scatter_kws={'marker':'o','color':'indianred'},\n",
    "          line_kws={'linewidth':1,'color':'blue' })"
   ]
  },
  {
   "cell_type": "markdown",
   "metadata": {
    "collapsed": true
   },
   "source": [
    "# Univariate Linear Regression"
   ]
  },
  {
   "cell_type": "markdown",
   "metadata": {},
   "source": [
    "This nothing but a regression with a single variable. We will be using NUMPY to demonstrate this:\n",
    "Numpy expects a 2D array, first is different example values, and the second is attribute number"
   ]
  },
  {
   "cell_type": "markdown",
   "metadata": {},
   "source": [
    " "
   ]
  },
  {
   "cell_type": "code",
   "execution_count": 10,
   "metadata": {},
   "outputs": [
    {
     "data": {
      "text/plain": [
       "(42647,)"
      ]
     },
     "execution_count": 10,
     "metadata": {},
     "output_type": "execute_result"
    }
   ],
   "source": [
    "X = df1['tempi']\n",
    "X.shape"
   ]
  },
  {
   "cell_type": "code",
   "execution_count": 11,
   "metadata": {},
   "outputs": [
    {
     "data": {
      "text/plain": [
       "(42647, 1)"
      ]
     },
     "execution_count": 11,
     "metadata": {},
     "output_type": "execute_result"
    }
   ],
   "source": [
    "X = np.vstack(df1['tempi'])\n",
    "X.shape"
   ]
  },
  {
   "cell_type": "code",
   "execution_count": 12,
   "metadata": {
    "collapsed": true
   },
   "outputs": [],
   "source": [
    "Y = df1['ENTRIESn_hourly']"
   ]
  },
  {
   "cell_type": "markdown",
   "metadata": {},
   "source": [
    "Now we have our X and Y, next we need to go ahead and use numpy to create the single variable linear regression.\n",
    "\n",
    "                        y = mx + b\n",
    "Using matrix,                        \n",
    "                        \n",
    "                        y =  Ap\n",
    "                        A = [x 1]\n",
    "                        p =[m\n",
    "                            b]"
   ]
  },
  {
   "cell_type": "code",
   "execution_count": 13,
   "metadata": {},
   "outputs": [
    {
     "data": {
      "text/plain": [
       "array([[array([ 55.9]), 1],\n",
       "       [array([ 52.]), 1],\n",
       "       [array([ 62.1]), 1],\n",
       "       ..., \n",
       "       [array([ 81.]), 1],\n",
       "       [array([ 77.]), 1],\n",
       "       [array([ 69.1]), 1]], dtype=object)"
      ]
     },
     "execution_count": 13,
     "metadata": {},
     "output_type": "execute_result"
    }
   ],
   "source": [
    "#Create a matrix [X 1]\n",
    "X = np.array( [ [value,1] for value in X] )\n",
    "X"
   ]
  },
  {
   "cell_type": "code",
   "execution_count": 14,
   "metadata": {
    "collapsed": true
   },
   "outputs": [],
   "source": [
    "# Best fit values (method linear algebra and least square method)\n",
    "m , b = np.linalg.lstsq(X,Y)[0]"
   ]
  },
  {
   "cell_type": "code",
   "execution_count": 15,
   "metadata": {},
   "outputs": [
    {
     "data": {
      "text/plain": [
       "<matplotlib.text.Text at 0x1d3a23a9908>"
      ]
     },
     "execution_count": 15,
     "metadata": {},
     "output_type": "execute_result"
    },
    {
     "data": {
      "image/png": "[encoded data removed]",
      "text/plain": [
       "<matplotlib.figure.Figure at 0x1d3a1c4fef0>"
      ]
     },
     "metadata": {},
     "output_type": "display_data"
    }
   ],
   "source": [
    "plt.plot(df1['tempi'],df1['ENTRIESn_hourly'],'o')\n",
    "\n",
    "x= df1['tempi']\n",
    "\n",
    "plt.plot(x, m*x + b,'r', label='Best fit line')\n",
    "plt.ylabel('Riders entered')\n",
    "plt.xlabel('Temperature')"
   ]
  },
  {
   "cell_type": "markdown",
   "metadata": {
    "collapsed": true
   },
   "source": [
    "# Finding Error in our fitted line"
   ]
  },
  {
   "cell_type": "markdown",
   "metadata": {},
   "source": [
    "       We did single variable regression using the least squares method. We need to find the error. It easier to understand root mean squared error, which is similar to Standard deviation. To find out root mean square we need to divide by number of elements and then take the square root."
   ]
  },
  {
   "cell_type": "code",
   "execution_count": 16,
   "metadata": {},
   "outputs": [
    {
     "name": "stdout",
     "output_type": "stream",
     "text": [
      "The root mean square error is 2940.53\n"
     ]
    }
   ],
   "source": [
    "result = np.linalg.lstsq(X,Y)\n",
    "\n",
    "error_total = result[1]\n",
    "\n",
    "rmse = np.sqrt(error_total/len(X))\n",
    "\n",
    "print('The root mean square error is %.2f' %rmse)"
   ]
  },
  {
   "cell_type": "markdown",
   "metadata": {},
   "source": [
    "Since rmse corresponds to Standard deviation, we could infer that number of rider wont be twice the rmse, 95% of time"
   ]
  },
  {
   "cell_type": "markdown",
   "metadata": {},
   "source": [
    "# Multivariate Regression using Scikit learn"
   ]
  },
  {
   "cell_type": "code",
   "execution_count": 17,
   "metadata": {
    "collapsed": true
   },
   "outputs": [],
   "source": [
    "#import linear regression\n",
    "import sklearn\n",
    "from sklearn.linear_model import LinearRegression\n"
   ]
  },
  {
   "cell_type": "markdown",
   "metadata": {},
   "source": [
    "The Linear regression class is an estimator.It predicts a value based on the observed data. All the estimators implement fit() and predict() methods. The fit method is used to learn the parameters of a model, and the predict method is used predict the value of a response variable using the learned parameters."
   ]
  },
  {
   "cell_type": "code",
   "execution_count": 18,
   "metadata": {
    "collapsed": true
   },
   "outputs": [],
   "source": [
    "# create an object\n",
    "lreg = LinearRegression()"
   ]
  },
  {
   "cell_type": "markdown",
   "metadata": {},
   "source": [
    "# Linear Regression Methods: \n",
    "\n",
    "lreg.fit() : fits a linear model\n",
    "\n",
    "lreg.predict() : predicts Y using the linear model with estimated coefficients\n",
    "\n",
    "lreg.score() returns the coefficient of determination (R^2). A measure of how well the observed outcomes are replicated by the model."
   ]
  },
  {
   "cell_type": "code",
   "execution_count": 19,
   "metadata": {
    "collapsed": true
   },
   "outputs": [],
   "source": [
    "X_multi = df1[['hour','day_week','fog','precipi','pressurei','rain','tempi','wspdi']]\n",
    "\n",
    "Y_Target = df1.ENTRIESn_hourly\n",
    "\n"
   ]
  },
  {
   "cell_type": "code",
   "execution_count": 20,
   "metadata": {},
   "outputs": [
    {
     "data": {
      "text/plain": [
       "LinearRegression(copy_X=True, fit_intercept=True, n_jobs=1, normalize=False)"
      ]
     },
     "execution_count": 20,
     "metadata": {},
     "output_type": "execute_result"
    }
   ],
   "source": [
    "lreg.fit(X_multi,Y_Target)"
   ]
  },
  {
   "cell_type": "code",
   "execution_count": 21,
   "metadata": {},
   "outputs": [
    {
     "name": "stdout",
     "output_type": "stream",
     "text": [
      "The estimated intercept coefficient is 11731.27\n",
      "The number of coefficient used is 8.00\n"
     ]
    }
   ],
   "source": [
    "print('The estimated intercept coefficient is %.2f' %lreg.intercept_)\n",
    "print('The number of coefficient used is %.2f' %len(lreg.coef_))"
   ]
  },
  {
   "cell_type": "markdown",
   "metadata": {},
   "source": [
    "  The equation now is changed as,\n",
    "       \n",
    "                            y(w,x) = w0 + w1x1 + ... + wpxp\n",
    "                            \n",
    "                            where w is the coefficient and w0 is the intercept"
   ]
  },
  {
   "cell_type": "code",
   "execution_count": 22,
   "metadata": {},
   "outputs": [
    {
     "data": {
      "text/html": [
       "<div>\n",
       "<style>\n",
       "    .dataframe thead tr:only-child th {\n",
       "        text-align: right;\n",
       "    }\n",
       "\n",
       "    .dataframe thead th {\n",
       "        text-align: left;\n",
       "    }\n",
       "\n",
       "    .dataframe tbody tr th {\n",
       "        vertical-align: top;\n",
       "    }\n",
       "</style>\n",
       "<table border=\"1\" class=\"dataframe\">\n",
       "  <thead>\n",
       "    <tr style=\"text-align: right;\">\n",
       "      <th></th>\n",
       "      <th>Features</th>\n",
       "      <th>Coefficient Estimates</th>\n",
       "    </tr>\n",
       "  </thead>\n",
       "  <tbody>\n",
       "    <tr>\n",
       "      <th>0</th>\n",
       "      <td>hour</td>\n",
       "      <td>126.320488</td>\n",
       "    </tr>\n",
       "    <tr>\n",
       "      <th>1</th>\n",
       "      <td>day_week</td>\n",
       "      <td>-150.447916</td>\n",
       "    </tr>\n",
       "    <tr>\n",
       "      <th>2</th>\n",
       "      <td>fog</td>\n",
       "      <td>-690.828919</td>\n",
       "    </tr>\n",
       "    <tr>\n",
       "      <th>3</th>\n",
       "      <td>precipi</td>\n",
       "      <td>-253.720611</td>\n",
       "    </tr>\n",
       "    <tr>\n",
       "      <th>4</th>\n",
       "      <td>pressurei</td>\n",
       "      <td>-356.745100</td>\n",
       "    </tr>\n",
       "    <tr>\n",
       "      <th>5</th>\n",
       "      <td>rain</td>\n",
       "      <td>178.622292</td>\n",
       "    </tr>\n",
       "    <tr>\n",
       "      <th>6</th>\n",
       "      <td>tempi</td>\n",
       "      <td>3.214556</td>\n",
       "    </tr>\n",
       "    <tr>\n",
       "      <th>7</th>\n",
       "      <td>wspdi</td>\n",
       "      <td>-31.688185</td>\n",
       "    </tr>\n",
       "  </tbody>\n",
       "</table>\n",
       "</div>"
      ],
      "text/plain": [
       "    Features  Coefficient Estimates\n",
       "0       hour             126.320488\n",
       "1   day_week            -150.447916\n",
       "2        fog            -690.828919\n",
       "3    precipi            -253.720611\n",
       "4  pressurei            -356.745100\n",
       "5       rain             178.622292\n",
       "6      tempi               3.214556\n",
       "7      wspdi             -31.688185"
      ]
     },
     "execution_count": 22,
     "metadata": {},
     "output_type": "execute_result"
    }
   ],
   "source": [
    "#df\n",
    "coeff_df = DataFrame(X_multi.columns)\n",
    "coeff_df.columns = ['Features']\n",
    "coeff_df['Coefficient Estimates'] = Series(lreg.coef_)\n",
    "coeff_df"
   ]
  },
  {
   "cell_type": "markdown",
   "metadata": {},
   "source": [
    "We initially approached the problem with hour as the best correlated variable for the target arrival. But this table let us know that the rain is the best coefficient estimate when compared to that of others."
   ]
  },
  {
   "cell_type": "markdown",
   "metadata": {},
   "source": [
    "# Using Training and Validation"
   ]
  },
  {
   "cell_type": "markdown",
   "metadata": {},
   "source": [
    "We need to check on how the Entries_hour is dependent on the other variables"
   ]
  },
  {
   "cell_type": "code",
   "execution_count": 23,
   "metadata": {
    "collapsed": true
   },
   "outputs": [],
   "source": [
    "X_train,X_test,Y_train,Y_test = sklearn.model_selection.train_test_split(X,df1['ENTRIESn_hourly'])"
   ]
  },
  {
   "cell_type": "code",
   "execution_count": 25,
   "metadata": {},
   "outputs": [
    {
     "name": "stdout",
     "output_type": "stream",
     "text": [
      "(31985, 2) (10662, 2) (31985,) (10662,)\n"
     ]
    }
   ],
   "source": [
    "# size of the training\n",
    "print(X_train.shape,X_test.shape,Y_train.shape,Y_test.shape)"
   ]
  },
  {
   "cell_type": "code",
   "execution_count": 27,
   "metadata": {},
   "outputs": [
    {
     "data": {
      "text/plain": [
       "LinearRegression(copy_X=True, fit_intercept=True, n_jobs=1, normalize=False)"
      ]
     },
     "execution_count": 27,
     "metadata": {},
     "output_type": "execute_result"
    }
   ],
   "source": [
    "lreg = LinearRegression()\n",
    "lreg.fit(X_train,Y_train)"
   ]
  },
  {
   "cell_type": "code",
   "execution_count": 28,
   "metadata": {
    "collapsed": true
   },
   "outputs": [],
   "source": [
    "#prediction\n",
    "pred_train = lreg.predict(X_train)\n",
    "pred_test = lreg.predict(X_test)"
   ]
  },
  {
   "cell_type": "code",
   "execution_count": 29,
   "metadata": {},
   "outputs": [
    {
     "name": "stdout",
     "output_type": "stream",
     "text": [
      "Fit a model X_train, and calculate the Mean squared error(MSE) with Y_train : 8696447.75\n"
     ]
    }
   ],
   "source": [
    "print(\"Fit a model X_train, and calculate the Mean squared error(MSE) with Y_train : %.2f\"\n",
    "     % np.mean((Y_train-pred_train)**2))"
   ]
  },
  {
   "cell_type": "code",
   "execution_count": 30,
   "metadata": {},
   "outputs": [
    {
     "name": "stdout",
     "output_type": "stream",
     "text": [
      "Fit a model X_train, and calculate the Mean squared error(MSE) with Y_test and X_test: 8498270.61\n"
     ]
    }
   ],
   "source": [
    "print(\"Fit a model X_train, and calculate the Mean squared error(MSE) with Y_test and X_test: %.2f\"\n",
    "     % np.mean((Y_test-pred_test)**2))"
   ]
  },
  {
   "cell_type": "markdown",
   "metadata": {},
   "source": [
    "# Residual Plot"
   ]
  },
  {
   "cell_type": "markdown",
   "metadata": {},
   "source": [
    "In regression analysis, the difference between the observed value of the dependent variable(y) and the predicted value(y^) is called as the residual(e).\n",
    "\n",
    "                          Residual = Observed value - Predicted value"
   ]
  },
  {
   "cell_type": "code",
   "execution_count": 36,
   "metadata": {},
   "outputs": [
    {
     "data": {
      "text/plain": [
       "<matplotlib.text.Text at 0x1d3a58132e8>"
      ]
     },
     "execution_count": 36,
     "metadata": {},
     "output_type": "execute_result"
    },
    {
     "data": {
      "image/png": "[encoded data removed]",
      "text/plain": [
       "<matplotlib.figure.Figure at 0x1d3a2215da0>"
      ]
     },
     "metadata": {},
     "output_type": "display_data"
    }
   ],
   "source": [
    "train = plt.scatter(pred_train,(pred_train-Y_train),c='b',alpha=0.5)\n",
    "\n",
    "test = plt.scatter(pred_test,(pred_test-Y_test),c='r',alpha=0.5)\n",
    "\n",
    "plt.hlines(y=0, xmin=-10,xmax=3000)\n",
    "\n",
    "plt.legend((train,test),('Training','Test'),loc='lower left')\n",
    "plt.title('Residual plot')"
   ]
  },
  {
   "cell_type": "code",
   "execution_count": null,
   "metadata": {
    "collapsed": true
   },
   "outputs": [],
   "source": []
  }
 ],
 "metadata": {
  "kernelspec": {
   "display_name": "Python 3",
   "language": "python",
   "name": "python3"
  },
  "language_info": {
   "codemirror_mode": {
    "name": "ipython",
    "version": 3
   },
   "file_extension": ".py",
   "mimetype": "text/x-python",
   "name": "python",
   "nbconvert_exporter": "python",
   "pygments_lexer": "ipython3",
   "version": "3.6.1"
  }
 },
 "nbformat": 4,
 "nbformat_minor": 2
}
